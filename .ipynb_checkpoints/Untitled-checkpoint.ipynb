{
 "cells": [
  {
   "cell_type": "code",
   "execution_count": 3,
   "id": "cadad18d",
   "metadata": {},
   "outputs": [
    {
     "name": "stdout",
     "output_type": "stream",
     "text": [
      "✅ 处理完成：已删除 A.txt 中的 'Reaction:' 行，并转移到 B.txt。\n"
     ]
    }
   ],
   "source": [
    "def move_reaction_lines(source_file, target_file):\n",
    "    \"\"\"\n",
    "    从 A.txt 中删除所有包含 'Reaction:' 的行，并将这些行移动到 B.txt。\n",
    "    :param source_file: 原始文件 (A.txt)\n",
    "    :param target_file: 目标文件 (B.txt)\n",
    "    \"\"\"\n",
    "    try:\n",
    "        with open(source_file, \"r\", encoding=\"utf-8\") as f:\n",
    "            lines = f.readlines()\n",
    "\n",
    "        # 分离包含 'Reaction:' 的行 和 其他行\n",
    "        reaction_lines = [line for line in lines if \"Reaction:\" in line]\n",
    "        remaining_lines = [line for line in lines if \"Reaction:\" not in line]\n",
    "\n",
    "        # 将剩余内容写回 A.txt\n",
    "        with open(source_file, \"w\", encoding=\"utf-8\") as f:\n",
    "            f.writelines(remaining_lines)\n",
    "\n",
    "        # 将 Reaction 行追加到 B.txt\n",
    "        if reaction_lines:\n",
    "            with open(target_file, \"a\", encoding=\"utf-8\") as f:\n",
    "                f.writelines(reaction_lines)\n",
    "\n",
    "        print(f\"✅ 处理完成：已删除 A.txt 中的 'Reaction:' 行，并转移到 B.txt。\")\n",
    "\n",
    "    except Exception as e:\n",
    "        print(f\"❌ 处理文件时出错: {e}\")\n",
    "\n",
    "\n",
    "# 调用函数，指定 A.txt 和 B.txt 的文件路径\n",
    "move_reaction_lines(\"simulate.txt\", \"B.txt\")\n"
   ]
  },
  {
   "cell_type": "code",
   "execution_count": 2,
   "id": "1cdf1fc4",
   "metadata": {},
   "outputs": [
    {
     "name": "stdout",
     "output_type": "stream",
     "text": [
      "\n",
      "📌 提取的唯一 `method` 值（已去重）：\n",
      ".lq.ActionPrototype\n",
      ".lq.FastTest.authGame\n",
      ".lq.FastTest.broadcastInGame\n",
      ".lq.FastTest.confirmNewRound\n",
      ".lq.FastTest.enterGame\n",
      ".lq.FastTest.fetchGamePlayerState\n",
      ".lq.FastTest.inputChiPengGang\n",
      ".lq.FastTest.inputOperation\n",
      ".lq.NotifyGameBroadcast\n",
      ".lq.NotifyGameEndResult\n",
      ".lq.NotifyPlayerLoadGameReady\n",
      "\n",
      "✅ 提取结果已保存到 `extracted_methods.txt`\n"
     ]
    }
   ],
   "source": [
    "import json\n",
    "\n",
    "# 输入和输出文件路径\n",
    "input_txt_file = \"250313.txt\"  # 你的日志文件路径\n",
    "output_txt_file = \"extracted_methods.txt\"  # 结果保存文件（可选）\n",
    "\n",
    "def extract_unique_methods(input_file, output_file=None):\n",
    "    \"\"\"\n",
    "    从日志文件中提取 `method` 字段，并去重、排序。\n",
    "    \"\"\"\n",
    "    extracted_methods = set()  # 使用 `set` 自动去重\n",
    "    prefix = \"LiqiMsg: \"  # LiqiMsg: 后的 JSON 数据\n",
    "\n",
    "    with open(input_file, \"r\", encoding=\"utf-8\") as f:\n",
    "        for line in f:\n",
    "            line = line.strip()\n",
    "            if line.startswith(prefix):  # 识别 \"LiqiMsg: \" 开头的行\n",
    "                json_str = line[len(prefix):]  # 提取 JSON 部分\n",
    "                try:\n",
    "                    liqi_msg = json.loads(json_str)  # 解析 JSON\n",
    "                    method = liqi_msg.get(\"method\")  # 获取 \"method\" 字段\n",
    "                    if method:\n",
    "                        extracted_methods.add(method)  # 添加到 `set`，自动去重\n",
    "                except json.JSONDecodeError:\n",
    "                    print(f\"❌ 解析 JSON 失败: {line}\")\n",
    "\n",
    "    # 转换为列表并排序\n",
    "    sorted_methods = sorted(extracted_methods)\n",
    "\n",
    "    # 结果打印\n",
    "    print(\"\\n📌 提取的唯一 `method` 值（已去重）：\")\n",
    "    for method in sorted_methods:\n",
    "        print(method)\n",
    "\n",
    "    # 如果提供了输出文件路径，则将结果写入文件\n",
    "    if output_file:\n",
    "        with open(output_file, \"w\", encoding=\"utf-8\") as out_f:\n",
    "            for method in sorted_methods:\n",
    "                out_f.write(method + \"\\n\")\n",
    "        print(f\"\\n✅ 提取结果已保存到 `{output_file}`\")\n",
    "\n",
    "# 运行提取\n",
    "extract_unique_methods(input_txt_file, output_txt_file)\n"
   ]
  },
  {
   "cell_type": "code",
   "execution_count": null,
   "id": "8f438902",
   "metadata": {},
   "outputs": [],
   "source": []
  }
 ],
 "metadata": {
  "kernelspec": {
   "display_name": "pytorch",
   "language": "python",
   "name": "pytorch"
  },
  "language_info": {
   "codemirror_mode": {
    "name": "ipython",
    "version": 3
   },
   "file_extension": ".py",
   "mimetype": "text/x-python",
   "name": "python",
   "nbconvert_exporter": "python",
   "pygments_lexer": "ipython3",
   "version": "3.9.15"
  }
 },
 "nbformat": 4,
 "nbformat_minor": 5
}
